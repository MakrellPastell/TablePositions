{
 "cells": [
  {
   "cell_type": "code",
   "execution_count": 73,
   "id": "4bd052af-dc9d-493d-ba7b-ee6959d5869d",
   "metadata": {},
   "outputs": [
    {
     "name": "stdout",
     "output_type": "stream",
     "text": [
      "\n",
      "\n",
      "                                 Erik\n",
      "                     |---------------------------|\n",
      "                     |                           |\n",
      "                     |                           |\n",
      "                     |                           |  Hilja\n",
      "                     |                           |\n",
      "                     |                           |\n",
      "             Haruka  |           Table           |\n",
      "                     |                           |\n",
      "                     |                           |  Thea\n",
      "                     |                           |\n",
      "                     |                           |\n",
      "                     |---------------------------|\n",
      "                               Marvin\n",
      "\n",
      "----------------------------------------------------------------------------Wall\n"
     ]
    }
   ],
   "source": [
    "import random as rd\n",
    "\n",
    "#Randomizing position\n",
    "Names = list([\"Erik\", \"Thea\", \"Marvin\", \"Haruka\", \"Hilja\"])\n",
    "rd.shuffle(Names)\n",
    "\n",
    "\n",
    "#Drawing figure with \n",
    "print()\n",
    "print()\n",
    "print(f\"{Names[2]:>37s}\")\n",
    "print(f\"{\"|---------------------------|\":>50s}\")\n",
    "print(f\"{\"|                           |\":>50s}\")\n",
    "print(f\"{\"|                           |\":>50s}\")\n",
    "print(f\"{\"|                           |\":>50s}\" + f\"  {Names[3]}\")\n",
    "print(f\"{\"|                           |\":>50s}\")\n",
    "print(f\"{\"|                           |\":>50s}\")\n",
    "print(f\"{Names[1] + \"  |           Table           |\":>50s}\")\n",
    "print(f\"{\"|                           |\":>50s}\")\n",
    "print(f\"{\"|                           |\":>50s}\" + f\"  {Names[4]}\")\n",
    "print(f\"{\"|                           |\":>50s}\")\n",
    "print(f\"{\"|                           |\":>50s}\")\n",
    "print(f\"{\"|---------------------------|\":>50s}\")\n",
    "print(f\"{Names[0]:>37s}\")\n",
    "print()\n",
    "print(f\"{'Wall':->80s}\")\n"
   ]
  }
 ],
 "metadata": {
  "kernelspec": {
   "display_name": "Python 3 (ipykernel)",
   "language": "python",
   "name": "python3"
  },
  "language_info": {
   "codemirror_mode": {
    "name": "ipython",
    "version": 3
   },
   "file_extension": ".py",
   "mimetype": "text/x-python",
   "name": "python",
   "nbconvert_exporter": "python",
   "pygments_lexer": "ipython3",
   "version": "3.12.7"
  }
 },
 "nbformat": 4,
 "nbformat_minor": 5
}
